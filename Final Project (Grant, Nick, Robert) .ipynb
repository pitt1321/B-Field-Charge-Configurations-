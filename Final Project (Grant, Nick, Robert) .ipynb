{
 "cells": [
  {
   "cell_type": "markdown",
   "metadata": {},
   "source": [
    "This is where we will implement and code everything...."
   ]
  },
  {
   "cell_type": "raw",
   "metadata": {
    "collapsed": true
   },
   "source": [
    "For the basic test cases do we even need 3d? If the tests are just in 2d\n",
    "I mean I can write the code interracting in 3d but Grant is going to have to be the one to \n",
    "reqtrite the plotter in 3d \n",
    "\n",
    "\n",
    "Do 2D and 3D test cases. Test in all 3 dimentions of motion"
   ]
  },
  {
   "cell_type": "code",
   "execution_count": 5,
   "metadata": {
    "collapsed": false
   },
   "outputs": [
    {
     "ename": "IndentationError",
     "evalue": "expected an indented block (<ipython-input-5-e82b356c75fc>, line 49)",
     "output_type": "error",
     "traceback": [
      "\u001b[0;36m  File \u001b[0;32m\"<ipython-input-5-e82b356c75fc>\"\u001b[0;36m, line \u001b[0;32m49\u001b[0m\n\u001b[0;31m    \"\"\"\u001b[0m\n\u001b[0m       \n^\u001b[0m\n\u001b[0;31mIndentationError\u001b[0m\u001b[0;31m:\u001b[0m expected an indented block\n"
     ]
    }
   ],
   "source": [
    "def uniform_B_field():\n",
    "\"\"\"Will simulate a single particle in a uniform B-field\n",
    "A simplistic case meant to be a proof of concept\n",
    "Will be initally plotted in 2D and will later be expanded to 3D \n",
    "so we can better see more complicated corkscrew shapes\n",
    "\n",
    "\n",
    "possibly make a single code to simulate particle charges?\n",
    "just make the equation of the B-field varry (constant = 1, or varrying =sin or cos, \n",
    "random = break total field into bits and mult by random number)\n",
    "\n",
    "do we put boundaries to bounce on? or do we let it shoot out of the testing area?\n",
    "\n",
    "\n",
    "\n",
    "PARAMETERS\n",
    "charge (positive or negative and what value, have it enterable in units of e)\n",
    "length of field/length of testing area\n",
    "number of steps to calculate (remember its in 3D so you may have to use less to save time)\n",
    "inital velocity x\n",
    "inital velocity y\n",
    "inital velocity z\n",
    "time for the expeiment to take place (maybe have a cutoff once particle exits field \n",
    "or a ways after so we can see slightly more long term effects (simple (if paramter = 1.5 field length- end )))\n",
    "    I am more in favor of this cutoff method to be our primary method of ending the code. Though we could add \n",
    "    **kwargs statement so if we only want to see a  tiny amount of time, we can (and then add statement that \n",
    "    if time= anything use that)\n",
    "\n",
    "\n",
    "Output\n",
    "\n",
    "\n",
    "\n",
    "\n",
    "Location(and plotted with connecting line)\n",
    "Array of KE values for each step\n",
    "\n",
    "\n",
    "\n",
    "    F=q*E + q*v*np.cross(B) \n",
    "    MEANS F = whatever + q* [v_x,v_y,v_z] x [B_x,B_y,B_z]\n",
    "    \n",
    "        for now we assume no E\n",
    "\n",
    "\"\"\"\n",
    "\n",
    "\n",
    "    "
   ]
  },
  {
   "cell_type": "code",
   "execution_count": null,
   "metadata": {
    "collapsed": false
   },
   "outputs": [],
   "source": [
    "import numpy as np\n",
    "\n",
    "\n",
    "v_x=float(input(\"Enter the x-componet of the particle's inital velocity:\"))\n",
    "\n",
    "v_y=float(input(\"Enter the y-componet of the particle's inital velocity:\"))\n",
    "\n",
    "v_z=float(input(\"Enter the z-componet of the particle's inital velocity:\"))\n",
    "\n",
    "\n",
    "vel_i = [v_x, v_y,v_z]"
   ]
  },
  {
   "cell_type": "code",
   "execution_count": null,
   "metadata": {
    "collapsed": true
   },
   "outputs": [],
   "source": [
    "print (vel_i)"
   ]
  },
  {
   "cell_type": "code",
   "execution_count": null,
   "metadata": {
    "collapsed": true
   },
   "outputs": [],
   "source": []
  },
  {
   "cell_type": "code",
   "execution_count": null,
   "metadata": {
    "collapsed": true
   },
   "outputs": [],
   "source": [
    "def nonuniform_B_field():\n",
    "\"\"\"Will simulate a single particle in a uniform B-field\n",
    "A simplistic case meant to be a proof of concept\n",
    "Will be initally plotted in 2D and will later be expanded to 3D \n",
    "so we can better see more complicated corkscrew shapes\n",
    "\n",
    "\n",
    "possibly make a single code to simulate particle charges?\n",
    "just make the equation of the B-field varry (constant = 1, or varrying =sin or cos, \n",
    "random = break total field into bits and mult by random number)\n",
    "\n",
    "do we put boundaries to bounce on? or do we let it shoot out of the testing area?\n",
    "\n",
    "\n",
    "\n",
    "PARAMETERS\n",
    "charge (positive or negative and what value, have it enterable in units of e)\n",
    "length of field/length of testing area\n",
    "number of steps to calculate (remember its in 3D so you may have to use less to save time)\n",
    "inital velocity x\n",
    "inital velocity y\n",
    "inital velocity z\n",
    "time for the expeiment to take place (maybe have a cutoff once particle exits field \n",
    "or a ways after so we can see slightly more long term effects (simple (if paramter = 1.5 field length- end )))\n",
    "    I am more in favor of this cutoff method to be our primary method of ending the code. Though we could add \n",
    "    **kwargs statement so if we only want to see a  tiny amount of time, we can (and then add statement that \n",
    "    if time= anything use that)\n",
    "\n",
    "\n",
    "Output\n",
    "\n",
    "\n",
    "\n",
    "\n",
    "Location(and plotted with connecting line)\n",
    "Array of KE values for each step\n",
    "\n",
    "\n",
    "\n",
    "\n",
    "    F=q*E + q*v*np.cross(B) \n",
    "    MEANS F = whatever + q* [v_x,v_y,v_z] x [B_x,B_y,B_z]\n",
    "    \n",
    "        for now we assume no E\n",
    "\n",
    "\"\"\""
   ]
  },
  {
   "cell_type": "code",
   "execution_count": null,
   "metadata": {
    "collapsed": true
   },
   "outputs": [],
   "source": []
  }
 ],
 "metadata": {
  "anaconda-cloud": {},
  "kernelspec": {
   "display_name": "Python [Root]",
   "language": "python",
   "name": "Python [Root]"
  },
  "language_info": {
   "codemirror_mode": {
    "name": "ipython",
    "version": 3
   },
   "file_extension": ".py",
   "mimetype": "text/x-python",
   "name": "python",
   "nbconvert_exporter": "python",
   "pygments_lexer": "ipython3",
   "version": "3.5.2"
  }
 },
 "nbformat": 4,
 "nbformat_minor": 0
}
